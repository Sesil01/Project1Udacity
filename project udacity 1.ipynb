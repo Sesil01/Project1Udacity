{
 "cells": [
  {
   "cell_type": "markdown",
   "id": "9131e2a8",
   "metadata": {},
   "source": [
    "# Property with lowest review\n",
    "\n",
    "This is my first Udacity project. In this project, I want to know about the property type with the lowest review rating. Some of the questions I ask are:\n",
    "\n",
    "1. Which property has the lowest review rating?\n",
    "2. What about the prices on each property? Does the rental price of the property that has the lowest rating also have the lowest price?\n",
    "3. From the lowest property data, which review is the lowest? What needs to be fixed?\n",
    "\n",
    "data used comes from Seattle Airbnb:\n",
    "https://www.kaggle.com/datasets/airbnb/seattle?select=listings.csv"
   ]
  },
  {
   "cell_type": "markdown",
   "id": "1a285e8e",
   "metadata": {},
   "source": [
    "## Prepare Data\n",
    "- Gather necessary data to answer your questions\n",
    "- Handle categorical and missing data\n",
    "- Provide insight into the methods you chose and why you chose them"
   ]
  },
  {
   "cell_type": "code",
   "execution_count": 3,
   "id": "0e9d44e1",
   "metadata": {},
   "outputs": [
    {
     "data": {
      "text/html": [
       "<div>\n",
       "<style scoped>\n",
       "    .dataframe tbody tr th:only-of-type {\n",
       "        vertical-align: middle;\n",
       "    }\n",
       "\n",
       "    .dataframe tbody tr th {\n",
       "        vertical-align: top;\n",
       "    }\n",
       "\n",
       "    .dataframe thead th {\n",
       "        text-align: right;\n",
       "    }\n",
       "</style>\n",
       "<table border=\"1\" class=\"dataframe\">\n",
       "  <thead>\n",
       "    <tr style=\"text-align: right;\">\n",
       "      <th></th>\n",
       "      <th>id</th>\n",
       "      <th>listing_url</th>\n",
       "      <th>scrape_id</th>\n",
       "      <th>last_scraped</th>\n",
       "      <th>name</th>\n",
       "      <th>summary</th>\n",
       "      <th>space</th>\n",
       "      <th>description</th>\n",
       "      <th>experiences_offered</th>\n",
       "      <th>neighborhood_overview</th>\n",
       "      <th>...</th>\n",
       "      <th>review_scores_value</th>\n",
       "      <th>requires_license</th>\n",
       "      <th>license</th>\n",
       "      <th>jurisdiction_names</th>\n",
       "      <th>instant_bookable</th>\n",
       "      <th>cancellation_policy</th>\n",
       "      <th>require_guest_profile_picture</th>\n",
       "      <th>require_guest_phone_verification</th>\n",
       "      <th>calculated_host_listings_count</th>\n",
       "      <th>reviews_per_month</th>\n",
       "    </tr>\n",
       "  </thead>\n",
       "  <tbody>\n",
       "    <tr>\n",
       "      <th>0</th>\n",
       "      <td>12147973</td>\n",
       "      <td>https://www.airbnb.com/rooms/12147973</td>\n",
       "      <td>20160906204935</td>\n",
       "      <td>2016-09-07</td>\n",
       "      <td>Sunny Bungalow in the City</td>\n",
       "      <td>Cozy, sunny, family home.  Master bedroom high...</td>\n",
       "      <td>The house has an open and cozy feel at the sam...</td>\n",
       "      <td>Cozy, sunny, family home.  Master bedroom high...</td>\n",
       "      <td>none</td>\n",
       "      <td>Roslindale is quiet, convenient and friendly. ...</td>\n",
       "      <td>...</td>\n",
       "      <td>NaN</td>\n",
       "      <td>f</td>\n",
       "      <td>NaN</td>\n",
       "      <td>NaN</td>\n",
       "      <td>f</td>\n",
       "      <td>moderate</td>\n",
       "      <td>f</td>\n",
       "      <td>f</td>\n",
       "      <td>1</td>\n",
       "      <td>NaN</td>\n",
       "    </tr>\n",
       "    <tr>\n",
       "      <th>1</th>\n",
       "      <td>3075044</td>\n",
       "      <td>https://www.airbnb.com/rooms/3075044</td>\n",
       "      <td>20160906204935</td>\n",
       "      <td>2016-09-07</td>\n",
       "      <td>Charming room in pet friendly apt</td>\n",
       "      <td>Charming and quiet room in a second floor 1910...</td>\n",
       "      <td>Small but cozy and quite room with a full size...</td>\n",
       "      <td>Charming and quiet room in a second floor 1910...</td>\n",
       "      <td>none</td>\n",
       "      <td>The room is in Roslindale, a diverse and prima...</td>\n",
       "      <td>...</td>\n",
       "      <td>9.0</td>\n",
       "      <td>f</td>\n",
       "      <td>NaN</td>\n",
       "      <td>NaN</td>\n",
       "      <td>t</td>\n",
       "      <td>moderate</td>\n",
       "      <td>f</td>\n",
       "      <td>f</td>\n",
       "      <td>1</td>\n",
       "      <td>1.30</td>\n",
       "    </tr>\n",
       "    <tr>\n",
       "      <th>2</th>\n",
       "      <td>6976</td>\n",
       "      <td>https://www.airbnb.com/rooms/6976</td>\n",
       "      <td>20160906204935</td>\n",
       "      <td>2016-09-07</td>\n",
       "      <td>Mexican Folk Art Haven in Boston</td>\n",
       "      <td>Come stay with a friendly, middle-aged guy in ...</td>\n",
       "      <td>Come stay with a friendly, middle-aged guy in ...</td>\n",
       "      <td>Come stay with a friendly, middle-aged guy in ...</td>\n",
       "      <td>none</td>\n",
       "      <td>The LOCATION: Roslindale is a safe and diverse...</td>\n",
       "      <td>...</td>\n",
       "      <td>10.0</td>\n",
       "      <td>f</td>\n",
       "      <td>NaN</td>\n",
       "      <td>NaN</td>\n",
       "      <td>f</td>\n",
       "      <td>moderate</td>\n",
       "      <td>t</td>\n",
       "      <td>f</td>\n",
       "      <td>1</td>\n",
       "      <td>0.47</td>\n",
       "    </tr>\n",
       "    <tr>\n",
       "      <th>3</th>\n",
       "      <td>1436513</td>\n",
       "      <td>https://www.airbnb.com/rooms/1436513</td>\n",
       "      <td>20160906204935</td>\n",
       "      <td>2016-09-07</td>\n",
       "      <td>Spacious Sunny Bedroom Suite in Historic Home</td>\n",
       "      <td>Come experience the comforts of home away from...</td>\n",
       "      <td>Most places you find in Boston are small howev...</td>\n",
       "      <td>Come experience the comforts of home away from...</td>\n",
       "      <td>none</td>\n",
       "      <td>Roslindale is a lovely little neighborhood loc...</td>\n",
       "      <td>...</td>\n",
       "      <td>10.0</td>\n",
       "      <td>f</td>\n",
       "      <td>NaN</td>\n",
       "      <td>NaN</td>\n",
       "      <td>f</td>\n",
       "      <td>moderate</td>\n",
       "      <td>f</td>\n",
       "      <td>f</td>\n",
       "      <td>1</td>\n",
       "      <td>1.00</td>\n",
       "    </tr>\n",
       "    <tr>\n",
       "      <th>4</th>\n",
       "      <td>7651065</td>\n",
       "      <td>https://www.airbnb.com/rooms/7651065</td>\n",
       "      <td>20160906204935</td>\n",
       "      <td>2016-09-07</td>\n",
       "      <td>Come Home to Boston</td>\n",
       "      <td>My comfy, clean and relaxing home is one block...</td>\n",
       "      <td>Clean, attractive, private room, one block fro...</td>\n",
       "      <td>My comfy, clean and relaxing home is one block...</td>\n",
       "      <td>none</td>\n",
       "      <td>I love the proximity to downtown, the neighbor...</td>\n",
       "      <td>...</td>\n",
       "      <td>10.0</td>\n",
       "      <td>f</td>\n",
       "      <td>NaN</td>\n",
       "      <td>NaN</td>\n",
       "      <td>f</td>\n",
       "      <td>flexible</td>\n",
       "      <td>f</td>\n",
       "      <td>f</td>\n",
       "      <td>1</td>\n",
       "      <td>2.25</td>\n",
       "    </tr>\n",
       "  </tbody>\n",
       "</table>\n",
       "<p>5 rows × 95 columns</p>\n",
       "</div>"
      ],
      "text/plain": [
       "         id                            listing_url       scrape_id  \\\n",
       "0  12147973  https://www.airbnb.com/rooms/12147973  20160906204935   \n",
       "1   3075044   https://www.airbnb.com/rooms/3075044  20160906204935   \n",
       "2      6976      https://www.airbnb.com/rooms/6976  20160906204935   \n",
       "3   1436513   https://www.airbnb.com/rooms/1436513  20160906204935   \n",
       "4   7651065   https://www.airbnb.com/rooms/7651065  20160906204935   \n",
       "\n",
       "  last_scraped                                           name  \\\n",
       "0   2016-09-07                     Sunny Bungalow in the City   \n",
       "1   2016-09-07              Charming room in pet friendly apt   \n",
       "2   2016-09-07               Mexican Folk Art Haven in Boston   \n",
       "3   2016-09-07  Spacious Sunny Bedroom Suite in Historic Home   \n",
       "4   2016-09-07                            Come Home to Boston   \n",
       "\n",
       "                                             summary  \\\n",
       "0  Cozy, sunny, family home.  Master bedroom high...   \n",
       "1  Charming and quiet room in a second floor 1910...   \n",
       "2  Come stay with a friendly, middle-aged guy in ...   \n",
       "3  Come experience the comforts of home away from...   \n",
       "4  My comfy, clean and relaxing home is one block...   \n",
       "\n",
       "                                               space  \\\n",
       "0  The house has an open and cozy feel at the sam...   \n",
       "1  Small but cozy and quite room with a full size...   \n",
       "2  Come stay with a friendly, middle-aged guy in ...   \n",
       "3  Most places you find in Boston are small howev...   \n",
       "4  Clean, attractive, private room, one block fro...   \n",
       "\n",
       "                                         description experiences_offered  \\\n",
       "0  Cozy, sunny, family home.  Master bedroom high...                none   \n",
       "1  Charming and quiet room in a second floor 1910...                none   \n",
       "2  Come stay with a friendly, middle-aged guy in ...                none   \n",
       "3  Come experience the comforts of home away from...                none   \n",
       "4  My comfy, clean and relaxing home is one block...                none   \n",
       "\n",
       "                               neighborhood_overview  ... review_scores_value  \\\n",
       "0  Roslindale is quiet, convenient and friendly. ...  ...                 NaN   \n",
       "1  The room is in Roslindale, a diverse and prima...  ...                 9.0   \n",
       "2  The LOCATION: Roslindale is a safe and diverse...  ...                10.0   \n",
       "3  Roslindale is a lovely little neighborhood loc...  ...                10.0   \n",
       "4  I love the proximity to downtown, the neighbor...  ...                10.0   \n",
       "\n",
       "  requires_license license jurisdiction_names instant_bookable  \\\n",
       "0                f     NaN                NaN                f   \n",
       "1                f     NaN                NaN                t   \n",
       "2                f     NaN                NaN                f   \n",
       "3                f     NaN                NaN                f   \n",
       "4                f     NaN                NaN                f   \n",
       "\n",
       "  cancellation_policy require_guest_profile_picture  \\\n",
       "0            moderate                             f   \n",
       "1            moderate                             f   \n",
       "2            moderate                             t   \n",
       "3            moderate                             f   \n",
       "4            flexible                             f   \n",
       "\n",
       "  require_guest_phone_verification calculated_host_listings_count  \\\n",
       "0                                f                              1   \n",
       "1                                f                              1   \n",
       "2                                f                              1   \n",
       "3                                f                              1   \n",
       "4                                f                              1   \n",
       "\n",
       "   reviews_per_month  \n",
       "0                NaN  \n",
       "1               1.30  \n",
       "2               0.47  \n",
       "3               1.00  \n",
       "4               2.25  \n",
       "\n",
       "[5 rows x 95 columns]"
      ]
     },
     "execution_count": 3,
     "metadata": {},
     "output_type": "execute_result"
    }
   ],
   "source": [
    "import numpy as np\n",
    "import pandas as pd\n",
    "import matplotlib.pyplot as plt\n",
    "import seaborn as sns\n",
    "%matplotlib inline\n",
    "\n",
    "df = pd.read_csv('listings.csv')\n",
    "df.head(5)"
   ]
  },
  {
   "cell_type": "code",
   "execution_count": 4,
   "id": "e6104d3f",
   "metadata": {},
   "outputs": [
    {
     "name": "stdout",
     "output_type": "stream",
     "text": [
      "<class 'pandas.core.frame.DataFrame'>\n",
      "RangeIndex: 3585 entries, 0 to 3584\n",
      "Data columns (total 95 columns):\n",
      " #   Column                            Non-Null Count  Dtype  \n",
      "---  ------                            --------------  -----  \n",
      " 0   id                                3585 non-null   int64  \n",
      " 1   listing_url                       3585 non-null   object \n",
      " 2   scrape_id                         3585 non-null   int64  \n",
      " 3   last_scraped                      3585 non-null   object \n",
      " 4   name                              3585 non-null   object \n",
      " 5   summary                           3442 non-null   object \n",
      " 6   space                             2528 non-null   object \n",
      " 7   description                       3585 non-null   object \n",
      " 8   experiences_offered               3585 non-null   object \n",
      " 9   neighborhood_overview             2170 non-null   object \n",
      " 10  notes                             1610 non-null   object \n",
      " 11  transit                           2295 non-null   object \n",
      " 12  access                            2096 non-null   object \n",
      " 13  interaction                       2031 non-null   object \n",
      " 14  house_rules                       2393 non-null   object \n",
      " 15  thumbnail_url                     2986 non-null   object \n",
      " 16  medium_url                        2986 non-null   object \n",
      " 17  picture_url                       3585 non-null   object \n",
      " 18  xl_picture_url                    2986 non-null   object \n",
      " 19  host_id                           3585 non-null   int64  \n",
      " 20  host_url                          3585 non-null   object \n",
      " 21  host_name                         3585 non-null   object \n",
      " 22  host_since                        3585 non-null   object \n",
      " 23  host_location                     3574 non-null   object \n",
      " 24  host_about                        2276 non-null   object \n",
      " 25  host_response_time                3114 non-null   object \n",
      " 26  host_response_rate                3114 non-null   object \n",
      " 27  host_acceptance_rate              3114 non-null   object \n",
      " 28  host_is_superhost                 3585 non-null   object \n",
      " 29  host_thumbnail_url                3585 non-null   object \n",
      " 30  host_picture_url                  3585 non-null   object \n",
      " 31  host_neighbourhood                3246 non-null   object \n",
      " 32  host_listings_count               3585 non-null   int64  \n",
      " 33  host_total_listings_count         3585 non-null   int64  \n",
      " 34  host_verifications                3585 non-null   object \n",
      " 35  host_has_profile_pic              3585 non-null   object \n",
      " 36  host_identity_verified            3585 non-null   object \n",
      " 37  street                            3585 non-null   object \n",
      " 38  neighbourhood                     3042 non-null   object \n",
      " 39  neighbourhood_cleansed            3585 non-null   object \n",
      " 40  neighbourhood_group_cleansed      0 non-null      float64\n",
      " 41  city                              3583 non-null   object \n",
      " 42  state                             3585 non-null   object \n",
      " 43  zipcode                           3547 non-null   object \n",
      " 44  market                            3571 non-null   object \n",
      " 45  smart_location                    3585 non-null   object \n",
      " 46  country_code                      3585 non-null   object \n",
      " 47  country                           3585 non-null   object \n",
      " 48  latitude                          3585 non-null   float64\n",
      " 49  longitude                         3585 non-null   float64\n",
      " 50  is_location_exact                 3585 non-null   object \n",
      " 51  property_type                     3582 non-null   object \n",
      " 52  room_type                         3585 non-null   object \n",
      " 53  accommodates                      3585 non-null   int64  \n",
      " 54  bathrooms                         3571 non-null   float64\n",
      " 55  bedrooms                          3575 non-null   float64\n",
      " 56  beds                              3576 non-null   float64\n",
      " 57  bed_type                          3585 non-null   object \n",
      " 58  amenities                         3585 non-null   object \n",
      " 59  square_feet                       56 non-null     float64\n",
      " 60  price                             3585 non-null   object \n",
      " 61  weekly_price                      892 non-null    object \n",
      " 62  monthly_price                     888 non-null    object \n",
      " 63  security_deposit                  1342 non-null   object \n",
      " 64  cleaning_fee                      2478 non-null   object \n",
      " 65  guests_included                   3585 non-null   int64  \n",
      " 66  extra_people                      3585 non-null   object \n",
      " 67  minimum_nights                    3585 non-null   int64  \n",
      " 68  maximum_nights                    3585 non-null   int64  \n",
      " 69  calendar_updated                  3585 non-null   object \n",
      " 70  has_availability                  0 non-null      float64\n",
      " 71  availability_30                   3585 non-null   int64  \n",
      " 72  availability_60                   3585 non-null   int64  \n",
      " 73  availability_90                   3585 non-null   int64  \n",
      " 74  availability_365                  3585 non-null   int64  \n",
      " 75  calendar_last_scraped             3585 non-null   object \n",
      " 76  number_of_reviews                 3585 non-null   int64  \n",
      " 77  first_review                      2829 non-null   object \n",
      " 78  last_review                       2829 non-null   object \n",
      " 79  review_scores_rating              2772 non-null   float64\n",
      " 80  review_scores_accuracy            2762 non-null   float64\n",
      " 81  review_scores_cleanliness         2767 non-null   float64\n",
      " 82  review_scores_checkin             2765 non-null   float64\n",
      " 83  review_scores_communication       2767 non-null   float64\n",
      " 84  review_scores_location            2763 non-null   float64\n",
      " 85  review_scores_value               2764 non-null   float64\n",
      " 86  requires_license                  3585 non-null   object \n",
      " 87  license                           0 non-null      float64\n",
      " 88  jurisdiction_names                0 non-null      float64\n",
      " 89  instant_bookable                  3585 non-null   object \n",
      " 90  cancellation_policy               3585 non-null   object \n",
      " 91  require_guest_profile_picture     3585 non-null   object \n",
      " 92  require_guest_phone_verification  3585 non-null   object \n",
      " 93  calculated_host_listings_count    3585 non-null   int64  \n",
      " 94  reviews_per_month                 2829 non-null   float64\n",
      "dtypes: float64(18), int64(15), object(62)\n",
      "memory usage: 2.6+ MB\n"
     ]
    }
   ],
   "source": [
    "df.info()"
   ]
  },
  {
   "cell_type": "markdown",
   "id": "ee57aa43",
   "metadata": {},
   "source": [
    "### Columns that I need:\n",
    "-\tPrice\n",
    "-\tProperty_type\n",
    "-\treview_scores_rating    \n",
    "-\treview_scores_accuracy            \n",
    "-\treview_scores_cleanliness         \n",
    "-\treview_scores_checkin             \n",
    "-\treview_scores_communication       \n",
    "-\treview_scores_location            \n",
    "-\treview_scores_value     "
   ]
  },
  {
   "cell_type": "code",
   "execution_count": 5,
   "id": "e9bffee2",
   "metadata": {},
   "outputs": [
    {
     "name": "stdout",
     "output_type": "stream",
     "text": [
      "<class 'pandas.core.frame.DataFrame'>\n",
      "RangeIndex: 3585 entries, 0 to 3584\n",
      "Data columns (total 9 columns):\n",
      " #   Column                       Non-Null Count  Dtype  \n",
      "---  ------                       --------------  -----  \n",
      " 0   property_type                3582 non-null   object \n",
      " 1   price                        3585 non-null   object \n",
      " 2   review_scores_rating         2772 non-null   float64\n",
      " 3   review_scores_accuracy       2762 non-null   float64\n",
      " 4   review_scores_cleanliness    2767 non-null   float64\n",
      " 5   review_scores_checkin        2765 non-null   float64\n",
      " 6   review_scores_communication  2767 non-null   float64\n",
      " 7   review_scores_location       2763 non-null   float64\n",
      " 8   review_scores_value          2764 non-null   float64\n",
      "dtypes: float64(7), object(2)\n",
      "memory usage: 252.2+ KB\n"
     ]
    }
   ],
   "source": [
    "df_1 = df[['property_type', 'price', 'review_scores_rating', 'review_scores_accuracy', 'review_scores_cleanliness', 'review_scores_checkin', 'review_scores_communication', 'review_scores_location', 'review_scores_value']]\n",
    "df_1.info()"
   ]
  },
  {
   "cell_type": "markdown",
   "id": "d17e0b7f",
   "metadata": {},
   "source": [
    "### Handle categorical and missing data"
   ]
  },
  {
   "cell_type": "code",
   "execution_count": 6,
   "id": "c86acd6a",
   "metadata": {},
   "outputs": [
    {
     "name": "stdout",
     "output_type": "stream",
     "text": [
      "price = 0.0\n",
      "property_type = 0.0008368200836820083\n",
      "rating = 0.22677824267782426\n",
      "accuracy = 0.2295676429567643\n",
      "cleanliness = 0.22817294281729428\n",
      "communication = 0.22817294281729428\n",
      "location = 0.2292887029288703\n",
      "value = 0.2290097629009763\n"
     ]
    }
   ],
   "source": [
    "#mean column with missing data\n",
    "print('price =', df['price'].isnull().mean())\n",
    "print('property_type =', df['property_type'].isnull().mean())\n",
    "print('rating =', df['review_scores_rating'].isnull().mean())\n",
    "print('accuracy =', df['review_scores_accuracy'].isnull().mean())\n",
    "print('cleanliness =', df['review_scores_cleanliness'].isnull().mean())\n",
    "print('communication =', df['review_scores_communication'].isnull().mean())\n",
    "print('location =', df['review_scores_location'].isnull().mean())\n",
    "print('value =', df['review_scores_value'].isnull().mean())"
   ]
  },
  {
   "cell_type": "code",
   "execution_count": 7,
   "id": "02fb4c76",
   "metadata": {},
   "outputs": [
    {
     "name": "stdout",
     "output_type": "stream",
     "text": [
      "(3585, 9) (2755, 9)\n"
     ]
    }
   ],
   "source": [
    "#drop data with missing value\n",
    "df_1_nonulls = df_1.dropna(axis = 0)\n",
    "\n",
    "print(df_1.shape, df_1_nonulls.shape)\n"
   ]
  },
  {
   "cell_type": "code",
   "execution_count": 8,
   "id": "7358c3cc",
   "metadata": {},
   "outputs": [
    {
     "name": "stderr",
     "output_type": "stream",
     "text": [
      "C:\\Users\\SESILIA\\AppData\\Local\\Temp\\ipykernel_14612\\1160382178.py:5: FutureWarning: The default value of regex will change from True to False in a future version. In addition, single character regular expressions will *not* be treated as literal strings when regex=True.\n",
      "  df_1_nonulls['price2'] = df_1_nonulls['price'].str.replace('$','').str.replace(',', '').astype(float)\n",
      "C:\\Users\\SESILIA\\AppData\\Local\\Temp\\ipykernel_14612\\1160382178.py:5: SettingWithCopyWarning: \n",
      "A value is trying to be set on a copy of a slice from a DataFrame.\n",
      "Try using .loc[row_indexer,col_indexer] = value instead\n",
      "\n",
      "See the caveats in the documentation: https://pandas.pydata.org/pandas-docs/stable/user_guide/indexing.html#returning-a-view-versus-a-copy\n",
      "  df_1_nonulls['price2'] = df_1_nonulls['price'].str.replace('$','').str.replace(',', '').astype(float)\n"
     ]
    },
    {
     "data": {
      "text/plain": [
       "1       65.0\n",
       "2       65.0\n",
       "3       75.0\n",
       "4       79.0\n",
       "5       75.0\n",
       "        ... \n",
       "3574    68.0\n",
       "3575    69.0\n",
       "3578    85.0\n",
       "3580    69.0\n",
       "3583    65.0\n",
       "Name: price2, Length: 2755, dtype: float64"
      ]
     },
     "execution_count": 8,
     "metadata": {},
     "output_type": "execute_result"
    }
   ],
   "source": [
    "#change price from str to int and make categorical the price with new label:\n",
    "#the laber is A (0 - 100), B (100 - 200), C (200 - 300), D (300 - 400), E (400 - 500), F (500 - 600),\n",
    "#G (600 - 700), H (700 - 800), I (800 - 900), J (900 - 1000), K (>1000)\n",
    "\n",
    "df_1_nonulls['price2'] = df_1_nonulls['price'].str.replace('$','').str.replace(',', '').astype(float)\n",
    "df_1_nonulls['price2']\n"
   ]
  },
  {
   "cell_type": "code",
   "execution_count": 9,
   "id": "b6dba6e4",
   "metadata": {},
   "outputs": [
    {
     "name": "stderr",
     "output_type": "stream",
     "text": [
      "C:\\Users\\SESILIA\\AppData\\Local\\Temp\\ipykernel_14612\\3614015342.py:1: SettingWithCopyWarning: \n",
      "A value is trying to be set on a copy of a slice from a DataFrame.\n",
      "Try using .loc[row_indexer,col_indexer] = value instead\n",
      "\n",
      "See the caveats in the documentation: https://pandas.pydata.org/pandas-docs/stable/user_guide/indexing.html#returning-a-view-versus-a-copy\n",
      "  df_1_nonulls['price_cate']=pd.cut(df_1_nonulls['price2'], [0,100,200,300,400,500,600,700,800,900,1000], labels = ['A','B','C','D','E','F','G','H','I','J'])\n"
     ]
    },
    {
     "data": {
      "text/plain": [
       "1     A\n",
       "2     A\n",
       "3     A\n",
       "4     A\n",
       "5     A\n",
       "6     A\n",
       "7     A\n",
       "8     A\n",
       "9     C\n",
       "10    A\n",
       "Name: price_cate, dtype: category\n",
       "Categories (10, object): ['A' < 'B' < 'C' < 'D' ... 'G' < 'H' < 'I' < 'J']"
      ]
     },
     "execution_count": 9,
     "metadata": {},
     "output_type": "execute_result"
    }
   ],
   "source": [
    "df_1_nonulls['price_cate']=pd.cut(df_1_nonulls['price2'], [0,100,200,300,400,500,600,700,800,900,1000], labels = ['A','B','C','D','E','F','G','H','I','J'])\n",
    "df_1_nonulls['price_cate'].head(10)"
   ]
  },
  {
   "cell_type": "markdown",
   "id": "0c63e328",
   "metadata": {},
   "source": [
    "### Provide insight into the methods you chose and why you chose them\n",
    "\n",
    "From the existing data, I want to know the type of property with the lowest level of satisfaction. By knowing which position is the lowest, I can provide insight to homeowners to correct these deficiencies so that it will increase customer satisfaction which also has an impact on increasing income."
   ]
  },
  {
   "cell_type": "markdown",
   "id": "3588fedd",
   "metadata": {},
   "source": [
    "## Analyze, Model, and Visualize\n",
    "\n",
    "Provide a clear connection between the business questions and how the data answers them.\n"
   ]
  },
  {
   "cell_type": "markdown",
   "id": "75a65528",
   "metadata": {},
   "source": [
    "### Question 1 - 2\n",
    "1. Which property has the lowest review rating?\n",
    "2. What about the prices on each property? Does the rental price of the property that has the lowest rating also have the lowest price?"
   ]
  },
  {
   "cell_type": "code",
   "execution_count": 10,
   "id": "5deef600",
   "metadata": {},
   "outputs": [
    {
     "data": {
      "text/plain": [
       "property_type\n",
       "Apartment           91.500761\n",
       "Bed & Breakfast     92.206897\n",
       "Boat                91.454545\n",
       "Condominium         94.451977\n",
       "Dorm                86.500000\n",
       "Entire Floor       100.000000\n",
       "Guesthouse         100.000000\n",
       "House               92.197479\n",
       "Loft                96.193548\n",
       "Other               88.111111\n",
       "Townhouse           94.644444\n",
       "Villa               99.500000\n",
       "Name: review_scores_rating, dtype: float64"
      ]
     },
     "execution_count": 10,
     "metadata": {},
     "output_type": "execute_result"
    }
   ],
   "source": [
    "property_review = df_1_nonulls.groupby(['property_type']).mean()['review_scores_rating']\n",
    "property_review"
   ]
  },
  {
   "cell_type": "code",
   "execution_count": 11,
   "id": "0d108dc4",
   "metadata": {},
   "outputs": [
    {
     "data": {
      "text/plain": [
       "property_type\n",
       "Apartment          172.671233\n",
       "Bed & Breakfast    107.862069\n",
       "Boat               277.363636\n",
       "Condominium        190.011299\n",
       "Dorm                62.500000\n",
       "Entire Floor        80.000000\n",
       "Guesthouse         289.000000\n",
       "House              133.487395\n",
       "Loft               196.903226\n",
       "Other              198.000000\n",
       "Townhouse          154.733333\n",
       "Villa              140.000000\n",
       "Name: price2, dtype: float64"
      ]
     },
     "execution_count": 11,
     "metadata": {},
     "output_type": "execute_result"
    }
   ],
   "source": [
    "property_price = df_1_nonulls.groupby(['property_type']).mean()['price2']\n",
    "property_price"
   ]
  },
  {
   "cell_type": "code",
   "execution_count": 12,
   "id": "fb524821",
   "metadata": {},
   "outputs": [
    {
     "data": {
      "image/png": "[encoded data removed]",
      "text/plain": [
       "<Figure size 432x288 with 1 Axes>"
      ]
     },
     "metadata": {
      "needs_background": "light"
     },
     "output_type": "display_data"
    }
   ],
   "source": [
    "(property_review/df_1_nonulls.shape[1]).plot(kind=\"bar\");\n",
    "plt.title(\"Review Rating per Property Type\");\n"
   ]
  },
  {
   "cell_type": "code",
   "execution_count": 13,
   "id": "9f96945e",
   "metadata": {},
   "outputs": [
    {
     "data": {
      "image/png": "[encoded data removed]",
      "text/plain": [
       "<Figure size 432x288 with 1 Axes>"
      ]
     },
     "metadata": {
      "needs_background": "light"
     },
     "output_type": "display_data"
    }
   ],
   "source": [
    "(property_price/df_1_nonulls.shape[1]).plot(kind=\"bar\");\n",
    "plt.title(\"price per Property Type\");"
   ]
  },
  {
   "cell_type": "markdown",
   "id": "da89b8aa",
   "metadata": {},
   "source": [
    "#### conclution 1:\n",
    "\n",
    "From the bar chart \"Review rating per property type\" shows that the lowest review is Dorm with a review rating of 86.5 points. Then the second lowest is occupied by Others. The difference in review points between Dorm and Others is considered not too far, which is 1.8 points. Meanwhile, the highest review rating is owned by Entire Floor and Guesthouse.\n",
    "When viewed from the price, Type property Dorm also has the lowest price, with an average of $ 62.5 per night. Entire Floor is in the second lowest price position with an average price of $80 per night. This shows that the Dorm property type needs to be improved to increase customer satisfaction. Next, from several types of reviews consisting of accuracy, cleanliness, value, check-in, communication, and location, we will find out improvements that need to be made by Dorm owners to increase customer satisfaction.\n"
   ]
  },
  {
   "cell_type": "markdown",
   "id": "ad294bd6",
   "metadata": {},
   "source": [
    "### Question 3\n",
    "\n",
    "3. From the lowest property data, which review is the lowest? What needs to be fixed?"
   ]
  },
  {
   "cell_type": "code",
   "execution_count": 23,
   "id": "3e7fff04",
   "metadata": {
    "scrolled": true
   },
   "outputs": [
    {
     "name": "stderr",
     "output_type": "stream",
     "text": [
      "C:\\Users\\SESILIA\\AppData\\Local\\Temp\\ipykernel_14612\\2907278698.py:3: FutureWarning: Dropping of nuisance columns in DataFrame reductions (with 'numeric_only=None') is deprecated; in a future version this will raise TypeError.  Select only valid columns before calling the reduction.\n",
      "  dorm_accuracy = df_1_nonulls.query('property_type == \"Dorm\"').mean()['review_scores_accuracy']\n",
      "C:\\Users\\SESILIA\\AppData\\Local\\Temp\\ipykernel_14612\\2907278698.py:4: FutureWarning: Dropping of nuisance columns in DataFrame reductions (with 'numeric_only=None') is deprecated; in a future version this will raise TypeError.  Select only valid columns before calling the reduction.\n",
      "  dorm_cleanliness = df_1_nonulls.query('property_type == \"Dorm\"').mean()['review_scores_cleanliness']\n",
      "C:\\Users\\SESILIA\\AppData\\Local\\Temp\\ipykernel_14612\\2907278698.py:5: FutureWarning: Dropping of nuisance columns in DataFrame reductions (with 'numeric_only=None') is deprecated; in a future version this will raise TypeError.  Select only valid columns before calling the reduction.\n",
      "  dorm_checkin = df_1_nonulls.query('property_type == \"Dorm\"').mean()['review_scores_checkin']\n",
      "C:\\Users\\SESILIA\\AppData\\Local\\Temp\\ipykernel_14612\\2907278698.py:6: FutureWarning: Dropping of nuisance columns in DataFrame reductions (with 'numeric_only=None') is deprecated; in a future version this will raise TypeError.  Select only valid columns before calling the reduction.\n",
      "  dorm_communication = df_1_nonulls.query('property_type == \"Dorm\"').mean()['review_scores_communication']\n",
      "C:\\Users\\SESILIA\\AppData\\Local\\Temp\\ipykernel_14612\\2907278698.py:7: FutureWarning: Dropping of nuisance columns in DataFrame reductions (with 'numeric_only=None') is deprecated; in a future version this will raise TypeError.  Select only valid columns before calling the reduction.\n",
      "  dorm_location = df_1_nonulls.query('property_type == \"Dorm\"').mean()['review_scores_location']\n",
      "C:\\Users\\SESILIA\\AppData\\Local\\Temp\\ipykernel_14612\\2907278698.py:8: FutureWarning: Dropping of nuisance columns in DataFrame reductions (with 'numeric_only=None') is deprecated; in a future version this will raise TypeError.  Select only valid columns before calling the reduction.\n",
      "  dorm_value = df_1_nonulls.query('property_type == \"Dorm\"').mean()['review_scores_value']\n"
     ]
    }
   ],
   "source": [
    "from matplotlib import style\n",
    "\n",
    "dorm_accuracy = df_1_nonulls.query('property_type == \"Dorm\"').mean()['review_scores_accuracy']\n",
    "dorm_cleanliness = df_1_nonulls.query('property_type == \"Dorm\"').mean()['review_scores_cleanliness']\n",
    "dorm_checkin = df_1_nonulls.query('property_type == \"Dorm\"').mean()['review_scores_checkin']\n",
    "dorm_communication = df_1_nonulls.query('property_type == \"Dorm\"').mean()['review_scores_communication']\n",
    "dorm_location = df_1_nonulls.query('property_type == \"Dorm\"').mean()['review_scores_location']\n",
    "dorm_value = df_1_nonulls.query('property_type == \"Dorm\"').mean()['review_scores_value']"
   ]
  },
  {
   "cell_type": "code",
   "execution_count": 38,
   "id": "58f2506f",
   "metadata": {},
   "outputs": [
    {
     "data": {
      "image/png": "[encoded data removed]",
      "text/plain": [
       "<Figure size 432x288 with 1 Axes>"
      ]
     },
     "metadata": {},
     "output_type": "display_data"
    }
   ],
   "source": [
    "style.use('ggplot')\n",
    "\n",
    "x = [1, 2, 3, 4, 5, 6]\n",
    "y = [dorm_accuracy, dorm_cleanliness, dorm_checkin, dorm_communication, dorm_location, dorm_value] \n",
    "color = ['red', 'grey', 'grey', 'grey', 'red', 'red']\n",
    "fig, ax = plt.subplots()\n",
    "\n",
    "ax.bar(x, y, align='center', color=color)\n",
    "\n",
    "ax.set_title('the lowest review of dorm property type')\n",
    "ax.set_ylabel('point')\n",
    "ax.set_xlabel('Dorm')\n",
    "\n",
    "ax.set_xticks(x)\n",
    "ax.set_xticklabels((\"Accuracy\", \"cleanliness\", \"checkin\", \"communication\", \"location\", \"value\"))\n",
    "\n",
    "plt.show()"
   ]
  },
  {
   "cell_type": "markdown",
   "id": "9bdf278c",
   "metadata": {},
   "source": [
    "#### conclution 2 :\n",
    "Reviews of accuracy, location, and value are the lowest reviews from the dorm with an average review of 9.0. This can be considered by the dorm owner to improve the information provided to prospective tenants more accurately and provide even better facilities and services. As for the location, although it cannot be repaired directly, the dorm owner can add transportation services as additional facilities for prospective tenants."
   ]
  }
 ],
 "metadata": {
  "kernelspec": {
   "display_name": "Python 3 (ipykernel)",
   "language": "python",
   "name": "python3"
  },
  "language_info": {
   "codemirror_mode": {
    "name": "ipython",
    "version": 3
   },
   "file_extension": ".py",
   "mimetype": "text/x-python",
   "name": "python",
   "nbconvert_exporter": "python",
   "pygments_lexer": "ipython3",
   "version": "3.9.12"
  }
 },
 "nbformat": 4,
 "nbformat_minor": 5
}
